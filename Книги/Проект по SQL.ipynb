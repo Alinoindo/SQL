{
 "cells": [
  {
   "cell_type": "markdown",
   "metadata": {},
   "source": [
    "# Выпускной проект"
   ]
  },
  {
   "cell_type": "markdown",
   "metadata": {},
   "source": [
    "**Задания**:\n",
    "\n",
    "- [Посчитайте, сколько книг вышло после 1 января 2000 года;](#1)\n",
    "- [Для каждой книги посчитайте количество обзоров и среднюю оценку;](#2)\n",
    "- [Определите издательство, которое выпустило наибольшее число книг толще 50 страниц — так вы исключите из анализа брошюры;](#3)\n",
    "- [Определите автора с самой высокой средней оценкой книг — учитывайте только книги с 50 и более оценками;](#4)\n",
    "- [Посчитайте среднее количество обзоров от пользователей, которые поставили больше 48 оценок;](#5)\n",
    "- [Выводы.](#6)"
   ]
  },
  {
   "cell_type": "markdown",
   "metadata": {},
   "source": [
    "# Проект по SQL"
   ]
  },
  {
   "cell_type": "markdown",
   "metadata": {},
   "source": [
    "**Описание проекта**"
   ]
  },
  {
   "cell_type": "markdown",
   "metadata": {},
   "source": [
    "Коронавирус застал мир врасплох, изменив привычный порядок вещей. На какое-то время жители городов перестали выходить на улицу, посещать кафе и торговые центры. Зато стало больше времени для книг. Это заметили стартаперы — и бросились создавать приложения для тех, кто любит читать."
   ]
  },
  {
   "cell_type": "markdown",
   "metadata": {},
   "source": [
    "Наша компания решила быть на волне и купила крупный сервис для чтения книг по подписке."
   ]
  },
  {
   "cell_type": "markdown",
   "metadata": {},
   "source": [
    "**Описание данных**"
   ]
  },
  {
   "cell_type": "markdown",
   "metadata": {},
   "source": [
    "**Таблица `books`**\n",
    "Содержит данные о книгах:\n",
    "- `book_id` — идентификатор книги;\n",
    "- `author_id` — идентификатор автора;\n",
    "- `title` — название книги;\n",
    "- `num_pages` — количество страниц;\n",
    "- `publication_date` — дата публикации книги;\n",
    "- `publisher_id` — идентификатор издателя.\n",
    "\n",
    "**Таблица `authors`**\n",
    "Содержит данные об авторах:\n",
    "- `author_id` — идентификатор автора;\n",
    "- `author` — имя автора.\n",
    "\n",
    "\n",
    "**Таблица `publishers`**\n",
    "Содержит данные об издательствах:\n",
    "- `publisher_id` — идентификатор издательства;\n",
    "- `publisher` — название издательства;\n",
    "\n",
    "\n",
    "**Таблица `ratings`**\n",
    "Содержит данные о пользовательских оценках книг:\n",
    "- `rating_id` — идентификатор оценки;\n",
    "- `book_id` — идентификатор книги;\n",
    "- `username` — имя пользователя, оставившего оценку;\n",
    "- `rating` — оценка книги.\n",
    "\n",
    "\n",
    "**Таблица `reviews`**\n",
    "Содержит данные о пользовательских обзорах:\n",
    "- `review_id` — идентификатор обзора;\n",
    "- `book_id` — идентификатор книги;\n",
    "- `username` — имя автора обзора;\n",
    "- `text` — текст обзора."
   ]
  },
  {
   "cell_type": "markdown",
   "metadata": {},
   "source": [
    "**Цель проекта**"
   ]
  },
  {
   "cell_type": "markdown",
   "metadata": {},
   "source": [
    "Проанализировать базу данных, сформулировать ценностное предложение для нового продукта."
   ]
  },
  {
   "cell_type": "code",
   "execution_count": 1,
   "metadata": {},
   "outputs": [],
   "source": [
    "# импортируем библиотеки\n",
    "import pandas as pd\n",
    "from sqlalchemy import text, create_engine\n",
    "# устанавливаем параметры\n",
    "db_config = {'user': 'praktikum_student', # имя пользователя\n",
    "'pwd': 'Sdf4$2;d-d30pp', # пароль\n",
    "'host': 'rc1b-wcoijxj3yxfsf3fs.mdb.yandexcloud.net',\n",
    "'port': 6432, # порт подключения\n",
    "'db': 'data-analyst-final-project-db'} # название базы данных\n",
    "connection_string = 'postgresql://{user}:{pwd}@{host}:{port}/{db}'.format(**db_config)\n",
    "# сохраняем коннектор\n",
    "engine = create_engine(connection_string, connect_args={'sslmode':'require'})"
   ]
  },
  {
   "cell_type": "code",
   "execution_count": 2,
   "metadata": {},
   "outputs": [
    {
     "data": {
      "text/html": [
       "<div>\n",
       "<style scoped>\n",
       "    .dataframe tbody tr th:only-of-type {\n",
       "        vertical-align: middle;\n",
       "    }\n",
       "\n",
       "    .dataframe tbody tr th {\n",
       "        vertical-align: top;\n",
       "    }\n",
       "\n",
       "    .dataframe thead th {\n",
       "        text-align: right;\n",
       "    }\n",
       "</style>\n",
       "<table border=\"1\" class=\"dataframe\">\n",
       "  <thead>\n",
       "    <tr style=\"text-align: right;\">\n",
       "      <th></th>\n",
       "      <th>book_id</th>\n",
       "      <th>author_id</th>\n",
       "      <th>title</th>\n",
       "      <th>num_pages</th>\n",
       "      <th>publication_date</th>\n",
       "      <th>publisher_id</th>\n",
       "    </tr>\n",
       "  </thead>\n",
       "  <tbody>\n",
       "    <tr>\n",
       "      <th>0</th>\n",
       "      <td>1</td>\n",
       "      <td>546</td>\n",
       "      <td>'Salem's Lot</td>\n",
       "      <td>594</td>\n",
       "      <td>2005-11-01</td>\n",
       "      <td>93</td>\n",
       "    </tr>\n",
       "    <tr>\n",
       "      <th>1</th>\n",
       "      <td>2</td>\n",
       "      <td>465</td>\n",
       "      <td>1 000 Places to See Before You Die</td>\n",
       "      <td>992</td>\n",
       "      <td>2003-05-22</td>\n",
       "      <td>336</td>\n",
       "    </tr>\n",
       "    <tr>\n",
       "      <th>2</th>\n",
       "      <td>3</td>\n",
       "      <td>407</td>\n",
       "      <td>13 Little Blue Envelopes (Little Blue Envelope...</td>\n",
       "      <td>322</td>\n",
       "      <td>2010-12-21</td>\n",
       "      <td>135</td>\n",
       "    </tr>\n",
       "    <tr>\n",
       "      <th>3</th>\n",
       "      <td>4</td>\n",
       "      <td>82</td>\n",
       "      <td>1491: New Revelations of the Americas Before C...</td>\n",
       "      <td>541</td>\n",
       "      <td>2006-10-10</td>\n",
       "      <td>309</td>\n",
       "    </tr>\n",
       "    <tr>\n",
       "      <th>4</th>\n",
       "      <td>5</td>\n",
       "      <td>125</td>\n",
       "      <td>1776</td>\n",
       "      <td>386</td>\n",
       "      <td>2006-07-04</td>\n",
       "      <td>268</td>\n",
       "    </tr>\n",
       "  </tbody>\n",
       "</table>\n",
       "</div>"
      ],
      "text/plain": [
       "   book_id  author_id                                              title  \\\n",
       "0        1        546                                       'Salem's Lot   \n",
       "1        2        465                 1 000 Places to See Before You Die   \n",
       "2        3        407  13 Little Blue Envelopes (Little Blue Envelope...   \n",
       "3        4         82  1491: New Revelations of the Americas Before C...   \n",
       "4        5        125                                               1776   \n",
       "\n",
       "   num_pages publication_date  publisher_id  \n",
       "0        594       2005-11-01            93  \n",
       "1        992       2003-05-22           336  \n",
       "2        322       2010-12-21           135  \n",
       "3        541       2006-10-10           309  \n",
       "4        386       2006-07-04           268  "
      ]
     },
     "execution_count": 2,
     "metadata": {},
     "output_type": "execute_result"
    }
   ],
   "source": [
    "# чтобы выполнить SQL-запрос, используем Pandas\n",
    "query = '''SELECT * FROM books LIMIT 5'''\n",
    "con=engine.connect()\n",
    "pd.io.sql.read_sql(sql=text(query), con = con)"
   ]
  },
  {
   "cell_type": "markdown",
   "metadata": {},
   "source": [
    "## Посчитайте, сколько книг вышло после 1 января 2000 года\n",
    "<a id=\"1\"></a>"
   ]
  },
  {
   "cell_type": "code",
   "execution_count": 3,
   "metadata": {},
   "outputs": [
    {
     "data": {
      "text/html": [
       "<div>\n",
       "<style scoped>\n",
       "    .dataframe tbody tr th:only-of-type {\n",
       "        vertical-align: middle;\n",
       "    }\n",
       "\n",
       "    .dataframe tbody tr th {\n",
       "        vertical-align: top;\n",
       "    }\n",
       "\n",
       "    .dataframe thead th {\n",
       "        text-align: right;\n",
       "    }\n",
       "</style>\n",
       "<table border=\"1\" class=\"dataframe\">\n",
       "  <thead>\n",
       "    <tr style=\"text-align: right;\">\n",
       "      <th></th>\n",
       "      <th>count</th>\n",
       "    </tr>\n",
       "  </thead>\n",
       "  <tbody>\n",
       "    <tr>\n",
       "      <th>0</th>\n",
       "      <td>819</td>\n",
       "    </tr>\n",
       "  </tbody>\n",
       "</table>\n",
       "</div>"
      ],
      "text/plain": [
       "   count\n",
       "0    819"
      ]
     },
     "execution_count": 3,
     "metadata": {},
     "output_type": "execute_result"
    }
   ],
   "source": [
    "query = '''SELECT COUNT(book_id) \n",
    "            FROM books \n",
    "            WHERE publication_date > '2000-01-01';'''\n",
    "con=engine.connect()\n",
    "pd.io.sql.read_sql(sql=text(query), con = con)"
   ]
  },
  {
   "cell_type": "markdown",
   "metadata": {},
   "source": [
    "После 1 января 2000 года вышло 819 книг."
   ]
  },
  {
   "cell_type": "markdown",
   "metadata": {},
   "source": [
    "## Для каждой книги посчитайте количество обзоров и среднюю оценку\n",
    "<a id=\"2\"></a>"
   ]
  },
  {
   "cell_type": "code",
   "execution_count": 4,
   "metadata": {},
   "outputs": [
    {
     "data": {
      "text/html": [
       "<div>\n",
       "<style scoped>\n",
       "    .dataframe tbody tr th:only-of-type {\n",
       "        vertical-align: middle;\n",
       "    }\n",
       "\n",
       "    .dataframe tbody tr th {\n",
       "        vertical-align: top;\n",
       "    }\n",
       "\n",
       "    .dataframe thead th {\n",
       "        text-align: right;\n",
       "    }\n",
       "</style>\n",
       "<table border=\"1\" class=\"dataframe\">\n",
       "  <thead>\n",
       "    <tr style=\"text-align: right;\">\n",
       "      <th></th>\n",
       "      <th>title</th>\n",
       "      <th>book_id</th>\n",
       "      <th>count_review</th>\n",
       "      <th>avg_rating</th>\n",
       "    </tr>\n",
       "  </thead>\n",
       "  <tbody>\n",
       "    <tr>\n",
       "      <th>0</th>\n",
       "      <td>Twilight (Twilight  #1)</td>\n",
       "      <td>948</td>\n",
       "      <td>7</td>\n",
       "      <td>3.66</td>\n",
       "    </tr>\n",
       "    <tr>\n",
       "      <th>1</th>\n",
       "      <td>The Road</td>\n",
       "      <td>854</td>\n",
       "      <td>6</td>\n",
       "      <td>3.77</td>\n",
       "    </tr>\n",
       "    <tr>\n",
       "      <th>2</th>\n",
       "      <td>The Book Thief</td>\n",
       "      <td>656</td>\n",
       "      <td>6</td>\n",
       "      <td>4.26</td>\n",
       "    </tr>\n",
       "    <tr>\n",
       "      <th>3</th>\n",
       "      <td>The Glass Castle</td>\n",
       "      <td>734</td>\n",
       "      <td>6</td>\n",
       "      <td>4.21</td>\n",
       "    </tr>\n",
       "    <tr>\n",
       "      <th>4</th>\n",
       "      <td>Water for Elephants</td>\n",
       "      <td>963</td>\n",
       "      <td>6</td>\n",
       "      <td>3.98</td>\n",
       "    </tr>\n",
       "    <tr>\n",
       "      <th>...</th>\n",
       "      <td>...</td>\n",
       "      <td>...</td>\n",
       "      <td>...</td>\n",
       "      <td>...</td>\n",
       "    </tr>\n",
       "    <tr>\n",
       "      <th>989</th>\n",
       "      <td>Naked Empire (Sword of Truth  #8)</td>\n",
       "      <td>465</td>\n",
       "      <td>1</td>\n",
       "      <td>3.50</td>\n",
       "    </tr>\n",
       "    <tr>\n",
       "      <th>990</th>\n",
       "      <td>Moo  Baa  La La La!</td>\n",
       "      <td>446</td>\n",
       "      <td>1</td>\n",
       "      <td>3.00</td>\n",
       "    </tr>\n",
       "    <tr>\n",
       "      <th>991</th>\n",
       "      <td>Merrick (The Vampire Chronicles #7)</td>\n",
       "      <td>431</td>\n",
       "      <td>1</td>\n",
       "      <td>4.00</td>\n",
       "    </tr>\n",
       "    <tr>\n",
       "      <th>992</th>\n",
       "      <td>Babyville</td>\n",
       "      <td>92</td>\n",
       "      <td>1</td>\n",
       "      <td>3.50</td>\n",
       "    </tr>\n",
       "    <tr>\n",
       "      <th>993</th>\n",
       "      <td>Lysistrata</td>\n",
       "      <td>413</td>\n",
       "      <td>1</td>\n",
       "      <td>4.00</td>\n",
       "    </tr>\n",
       "  </tbody>\n",
       "</table>\n",
       "<p>994 rows × 4 columns</p>\n",
       "</div>"
      ],
      "text/plain": [
       "                                   title  book_id  count_review  avg_rating\n",
       "0                Twilight (Twilight  #1)      948             7        3.66\n",
       "1                               The Road      854             6        3.77\n",
       "2                         The Book Thief      656             6        4.26\n",
       "3                       The Glass Castle      734             6        4.21\n",
       "4                    Water for Elephants      963             6        3.98\n",
       "..                                   ...      ...           ...         ...\n",
       "989    Naked Empire (Sword of Truth  #8)      465             1        3.50\n",
       "990                  Moo  Baa  La La La!      446             1        3.00\n",
       "991  Merrick (The Vampire Chronicles #7)      431             1        4.00\n",
       "992                            Babyville       92             1        3.50\n",
       "993                           Lysistrata      413             1        4.00\n",
       "\n",
       "[994 rows x 4 columns]"
      ]
     },
     "execution_count": 4,
     "metadata": {},
     "output_type": "execute_result"
    }
   ],
   "source": [
    "query = '''SELECT b.title,\n",
    "                  b.book_id,\n",
    "                  COUNT(DISTINCT r.review_id) AS count_review,\n",
    "                  ROUND(AVG(ra.rating), 2) AS avg_rating\n",
    "            FROM books AS b\n",
    "            JOIN reviews AS r ON b.book_id = r.book_id\n",
    "            JOIN ratings AS ra ON r.book_id = ra.book_id\n",
    "            GROUP BY b.title, b.book_id\n",
    "            ORDER BY COUNT(DISTINCT r.review_id) DESC;'''\n",
    "con=engine.connect()\n",
    "pd.io.sql.read_sql(sql=text(query), con = con)"
   ]
  },
  {
   "cell_type": "markdown",
   "metadata": {},
   "source": [
    "Мы посчитали для каждой книги число обзоров и среднюю оценку. Самое большое количество обзоров получила книга Twilight (Сумерки) - 7, а средняя оценка этой книги - 3.66 На втором месте стоит книга The Road (Дорога) с оценкой 3,77 и 6 отзывами."
   ]
  },
  {
   "cell_type": "code",
   "execution_count": 5,
   "metadata": {},
   "outputs": [
    {
     "data": {
      "text/html": [
       "<div>\n",
       "<style scoped>\n",
       "    .dataframe tbody tr th:only-of-type {\n",
       "        vertical-align: middle;\n",
       "    }\n",
       "\n",
       "    .dataframe tbody tr th {\n",
       "        vertical-align: top;\n",
       "    }\n",
       "\n",
       "    .dataframe thead th {\n",
       "        text-align: right;\n",
       "    }\n",
       "</style>\n",
       "<table border=\"1\" class=\"dataframe\">\n",
       "  <thead>\n",
       "    <tr style=\"text-align: right;\">\n",
       "      <th></th>\n",
       "      <th>total_reviews</th>\n",
       "    </tr>\n",
       "  </thead>\n",
       "  <tbody>\n",
       "    <tr>\n",
       "      <th>0</th>\n",
       "      <td>2793</td>\n",
       "    </tr>\n",
       "  </tbody>\n",
       "</table>\n",
       "</div>"
      ],
      "text/plain": [
       "   total_reviews\n",
       "0           2793"
      ]
     },
     "execution_count": 5,
     "metadata": {},
     "output_type": "execute_result"
    }
   ],
   "source": [
    "query = '''SELECT COUNT(*) AS total_reviews \n",
    "           FROM reviews;'''\n",
    "con=engine.connect()\n",
    "pd.io.sql.read_sql(sql=text(query), con = con)"
   ]
  },
  {
   "cell_type": "markdown",
   "metadata": {},
   "source": [
    "## Определите издательство, которое выпустило наибольшее число книг толще 50 страниц — так вы исключите из анализа брошюры\n",
    "<a id=\"3\"></a>"
   ]
  },
  {
   "cell_type": "code",
   "execution_count": 6,
   "metadata": {},
   "outputs": [
    {
     "data": {
      "text/html": [
       "<div>\n",
       "<style scoped>\n",
       "    .dataframe tbody tr th:only-of-type {\n",
       "        vertical-align: middle;\n",
       "    }\n",
       "\n",
       "    .dataframe tbody tr th {\n",
       "        vertical-align: top;\n",
       "    }\n",
       "\n",
       "    .dataframe thead th {\n",
       "        text-align: right;\n",
       "    }\n",
       "</style>\n",
       "<table border=\"1\" class=\"dataframe\">\n",
       "  <thead>\n",
       "    <tr style=\"text-align: right;\">\n",
       "      <th></th>\n",
       "      <th>publisher</th>\n",
       "      <th>num_books</th>\n",
       "    </tr>\n",
       "  </thead>\n",
       "  <tbody>\n",
       "    <tr>\n",
       "      <th>0</th>\n",
       "      <td>Penguin Books</td>\n",
       "      <td>42</td>\n",
       "    </tr>\n",
       "  </tbody>\n",
       "</table>\n",
       "</div>"
      ],
      "text/plain": [
       "       publisher  num_books\n",
       "0  Penguin Books         42"
      ]
     },
     "execution_count": 6,
     "metadata": {},
     "output_type": "execute_result"
    }
   ],
   "source": [
    "query = '''WITH bok AS (\n",
    "                    SELECT publisher_id,\n",
    "                            COUNT(book_id) AS num_books\n",
    "                    FROM books\n",
    "                    WHERE num_pages > 50\n",
    "                    GROUP BY publisher_id)\n",
    "            SELECT p.publisher,\n",
    "                    b.num_books\n",
    "            FROM bok AS b\n",
    "            JOIN publishers AS p ON b.publisher_id = p.publisher_id\n",
    "            ORDER BY b.num_books DESC\n",
    "            LIMIT 1;'''\n",
    "con=engine.connect()\n",
    "pd.io.sql.read_sql(sql=text(query), con = con)"
   ]
  },
  {
   "cell_type": "markdown",
   "metadata": {},
   "source": [
    "Больше всего книг толще 50 страниц выпустило издательство Penguin Books (42 книги)."
   ]
  },
  {
   "cell_type": "markdown",
   "metadata": {},
   "source": [
    "## Определите автора с самой высокой средней оценкой книг — учитывайте только книги с 50 и более оценками\n",
    "<a id=\"4\"></a>"
   ]
  },
  {
   "cell_type": "code",
   "execution_count": 7,
   "metadata": {},
   "outputs": [
    {
     "data": {
      "text/html": [
       "<div>\n",
       "<style scoped>\n",
       "    .dataframe tbody tr th:only-of-type {\n",
       "        vertical-align: middle;\n",
       "    }\n",
       "\n",
       "    .dataframe tbody tr th {\n",
       "        vertical-align: top;\n",
       "    }\n",
       "\n",
       "    .dataframe thead th {\n",
       "        text-align: right;\n",
       "    }\n",
       "</style>\n",
       "<table border=\"1\" class=\"dataframe\">\n",
       "  <thead>\n",
       "    <tr style=\"text-align: right;\">\n",
       "      <th></th>\n",
       "      <th>author</th>\n",
       "      <th>author_avg_rat</th>\n",
       "    </tr>\n",
       "  </thead>\n",
       "  <tbody>\n",
       "    <tr>\n",
       "      <th>0</th>\n",
       "      <td>J.K. Rowling/Mary GrandPré</td>\n",
       "      <td>4.283844</td>\n",
       "    </tr>\n",
       "  </tbody>\n",
       "</table>\n",
       "</div>"
      ],
      "text/plain": [
       "                       author  author_avg_rat\n",
       "0  J.K. Rowling/Mary GrandPré        4.283844"
      ]
     },
     "execution_count": 7,
     "metadata": {},
     "output_type": "execute_result"
    }
   ],
   "source": [
    "query = '''WITH rat AS (\n",
    "                    SELECT book_id,\n",
    "                           AVG(rating) AS avg_rat\n",
    "                    FROM ratings\n",
    "                    GROUP BY book_id\n",
    "                    HAVING COUNT(rating) >= 50),\n",
    "                auth AS (\n",
    "                    SELECT a.author_id,\n",
    "                            a.author,\n",
    "                            AVG(r.avg_rat) AS author_avg_rat\n",
    "                    FROM rat AS r\n",
    "                    JOIN books AS b ON r.book_id = b.book_id\n",
    "                    JOIN authors AS a ON b.author_id = a.author_id\n",
    "                    GROUP BY a.author_id, a.author)\n",
    "            SELECT author,\n",
    "                   author_avg_rat\n",
    "            FROM auth\n",
    "            ORDER BY author_avg_rat DESC\n",
    "            LIMIT 1;'''\n",
    "con=engine.connect()\n",
    "pd.io.sql.read_sql(sql=text(query), con = con)"
   ]
  },
  {
   "cell_type": "markdown",
   "metadata": {},
   "source": [
    "Самую высокую среднюю оценку книг получила автор J.K. Rowling (Джоан Роулинг) - 4.3, чьи книги насчитывают более 50 оценок."
   ]
  },
  {
   "cell_type": "markdown",
   "metadata": {},
   "source": [
    "## Посчитайте среднее количество обзоров от пользователей, которые поставили больше 48 оценок\n",
    "<a id=\"5\"></a>"
   ]
  },
  {
   "cell_type": "code",
   "execution_count": 8,
   "metadata": {},
   "outputs": [
    {
     "data": {
      "text/html": [
       "<div>\n",
       "<style scoped>\n",
       "    .dataframe tbody tr th:only-of-type {\n",
       "        vertical-align: middle;\n",
       "    }\n",
       "\n",
       "    .dataframe tbody tr th {\n",
       "        vertical-align: top;\n",
       "    }\n",
       "\n",
       "    .dataframe thead th {\n",
       "        text-align: right;\n",
       "    }\n",
       "</style>\n",
       "<table border=\"1\" class=\"dataframe\">\n",
       "  <thead>\n",
       "    <tr style=\"text-align: right;\">\n",
       "      <th></th>\n",
       "      <th>avg_count_review</th>\n",
       "      <th>count_rating</th>\n",
       "    </tr>\n",
       "  </thead>\n",
       "  <tbody>\n",
       "    <tr>\n",
       "      <th>0</th>\n",
       "      <td>24.0</td>\n",
       "      <td>13</td>\n",
       "    </tr>\n",
       "  </tbody>\n",
       "</table>\n",
       "</div>"
      ],
      "text/plain": [
       "   avg_count_review  count_rating\n",
       "0              24.0            13"
      ]
     },
     "execution_count": 8,
     "metadata": {},
     "output_type": "execute_result"
    }
   ],
   "source": [
    "query = '''WITH rat AS (\n",
    "                    SELECT username,\n",
    "                            COUNT(rating_id) AS count_rating\n",
    "                    FROM ratings\n",
    "                    GROUP BY username\n",
    "                    HAVING COUNT(rating_id) > 48),\n",
    "                rev AS (\n",
    "                    SELECT r.username,\n",
    "                            COUNT(r.review_id) AS count_review\n",
    "                    FROM reviews AS r\n",
    "                    JOIN rat AS ra ON r.username = ra.username\n",
    "                    GROUP BY r.username)\n",
    "            SELECT AVG(count_review) AS avg_count_review,\n",
    "                    COUNT(*) AS count_rating\n",
    "            FROM rev;'''\n",
    "con=engine.connect()\n",
    "pd.io.sql.read_sql(sql=text(query), con = con)"
   ]
  },
  {
   "cell_type": "markdown",
   "metadata": {},
   "source": [
    "Среднее количество обзоров от пользователей, которые поставили больше 48 оценок, составляет 24 обзора. Всего таких пользователей 13."
   ]
  },
  {
   "cell_type": "markdown",
   "metadata": {},
   "source": [
    "## Выводы\n",
    "<a id=\"6\"></a>"
   ]
  },
  {
   "cell_type": "markdown",
   "metadata": {},
   "source": [
    "В ходе анализа базы данных сервиса для чтения книг, мы пришли к следующим выводам:\n",
    "1. После 1 января 2000 года вышло 819 книг.\n",
    "2. Мы посчитали для каждой книги число обзоров и среднюю оценку. Самое большое количество обзоров получила книга Twilight (Сумерки) - 7, а средняя оценка этой книги - 3.66 На втором месте стоит книга The Road (Дорога) с оценкой 3,77 и 6 отзывами.\n",
    "3. Больше всего книг толще 50 страниц выпустило издательство Penguin Books (42 книги).\n",
    "4. Самую высокую среднюю оценку книг получила автор J.K. Rowling (Джоан Роулинг) - 4.3, чьи книги насчитывают более 50 оценок. \n",
    "5. Среднее количество обзоров от пользователей, которые поставили больше 48 оценок, составляет 24 обзора. Всего таких пользователей 13."
   ]
  }
 ],
 "metadata": {
  "ExecuteTimeLog": [
   {
    "duration": 6088,
    "start_time": "2025-02-05T03:58:58.857Z"
   },
   {
    "duration": 5696,
    "start_time": "2025-02-05T03:59:48.263Z"
   },
   {
    "duration": 49,
    "start_time": "2025-02-05T04:25:01.591Z"
   },
   {
    "duration": 131,
    "start_time": "2025-02-05T04:25:06.746Z"
   },
   {
    "duration": 51,
    "start_time": "2025-02-05T04:25:18.520Z"
   },
   {
    "duration": 58,
    "start_time": "2025-02-05T04:27:01.050Z"
   },
   {
    "duration": 5811,
    "start_time": "2025-02-05T04:28:34.483Z"
   },
   {
    "duration": 51,
    "start_time": "2025-02-05T04:28:40.295Z"
   },
   {
    "duration": 108,
    "start_time": "2025-02-05T04:28:40.347Z"
   },
   {
    "duration": 10,
    "start_time": "2025-02-05T04:29:55.870Z"
   },
   {
    "duration": 3,
    "start_time": "2025-02-05T04:30:37.264Z"
   },
   {
    "duration": 54,
    "start_time": "2025-02-05T04:30:42.205Z"
   },
   {
    "duration": 10,
    "start_time": "2025-02-05T04:30:45.260Z"
   },
   {
    "duration": 2,
    "start_time": "2025-02-05T04:31:36.057Z"
   },
   {
    "duration": 12,
    "start_time": "2025-02-05T04:31:44.217Z"
   },
   {
    "duration": 14,
    "start_time": "2025-02-05T04:32:04.522Z"
   },
   {
    "duration": 6139,
    "start_time": "2025-02-05T04:33:52.814Z"
   },
   {
    "duration": 56,
    "start_time": "2025-02-05T04:33:58.955Z"
   },
   {
    "duration": 49,
    "start_time": "2025-02-05T04:33:59.013Z"
   },
   {
    "duration": 10,
    "start_time": "2025-02-05T04:33:59.064Z"
   },
   {
    "duration": 12,
    "start_time": "2025-02-05T04:41:04.399Z"
   },
   {
    "duration": 10,
    "start_time": "2025-02-05T04:41:09.474Z"
   },
   {
    "duration": 119,
    "start_time": "2025-02-05T04:54:28.920Z"
   },
   {
    "duration": 22,
    "start_time": "2025-02-05T04:55:16.707Z"
   },
   {
    "duration": 70,
    "start_time": "2025-02-05T04:56:38.787Z"
   },
   {
    "duration": 22,
    "start_time": "2025-02-05T05:06:45.921Z"
   },
   {
    "duration": 25,
    "start_time": "2025-02-05T05:06:55.470Z"
   },
   {
    "duration": 70,
    "start_time": "2025-02-05T05:08:41.274Z"
   },
   {
    "duration": 32,
    "start_time": "2025-02-05T05:12:08.598Z"
   },
   {
    "duration": 31,
    "start_time": "2025-02-05T05:14:58.257Z"
   },
   {
    "duration": 21,
    "start_time": "2025-02-05T05:29:09.879Z"
   },
   {
    "duration": 20,
    "start_time": "2025-02-05T05:29:17.596Z"
   },
   {
    "duration": 21,
    "start_time": "2025-02-05T05:29:40.243Z"
   },
   {
    "duration": 61,
    "start_time": "2025-02-05T05:29:47.356Z"
   },
   {
    "duration": 16,
    "start_time": "2025-02-05T05:30:25.284Z"
   },
   {
    "duration": 7132,
    "start_time": "2025-02-05T05:30:34.740Z"
   },
   {
    "duration": 61,
    "start_time": "2025-02-05T05:30:41.873Z"
   },
   {
    "duration": 44,
    "start_time": "2025-02-05T05:30:41.936Z"
   },
   {
    "duration": 29,
    "start_time": "2025-02-05T05:30:41.982Z"
   },
   {
    "duration": 14,
    "start_time": "2025-02-05T05:30:42.013Z"
   },
   {
    "duration": 88,
    "start_time": "2025-02-05T05:31:02.747Z"
   },
   {
    "duration": 22,
    "start_time": "2025-02-05T05:31:16.214Z"
   },
   {
    "duration": 54,
    "start_time": "2025-02-05T05:31:29.708Z"
   },
   {
    "duration": 31,
    "start_time": "2025-02-05T05:31:56.074Z"
   },
   {
    "duration": 14,
    "start_time": "2025-02-05T05:32:00.334Z"
   },
   {
    "duration": 43,
    "start_time": "2025-02-05T05:33:16.374Z"
   },
   {
    "duration": 22,
    "start_time": "2025-02-05T05:46:14.626Z"
   },
   {
    "duration": 19,
    "start_time": "2025-02-05T05:47:22.666Z"
   },
   {
    "duration": 23,
    "start_time": "2025-02-05T05:47:44.276Z"
   },
   {
    "duration": 16,
    "start_time": "2025-02-05T05:48:06.142Z"
   },
   {
    "duration": 15,
    "start_time": "2025-02-05T05:48:20.102Z"
   },
   {
    "duration": 17,
    "start_time": "2025-02-05T05:54:34.811Z"
   },
   {
    "duration": 14,
    "start_time": "2025-02-05T06:13:50.310Z"
   },
   {
    "duration": 16,
    "start_time": "2025-02-05T06:14:14.015Z"
   },
   {
    "duration": 23,
    "start_time": "2025-02-05T06:18:40.756Z"
   },
   {
    "duration": 15,
    "start_time": "2025-02-05T06:19:00.481Z"
   },
   {
    "duration": 85,
    "start_time": "2025-02-05T06:21:42.225Z"
   },
   {
    "duration": 18,
    "start_time": "2025-02-05T06:22:59.933Z"
   },
   {
    "duration": 16,
    "start_time": "2025-02-05T06:23:02.675Z"
   },
   {
    "duration": 15,
    "start_time": "2025-02-05T06:38:22.054Z"
   },
   {
    "duration": 6276,
    "start_time": "2025-02-05T06:43:51.156Z"
   },
   {
    "duration": 56,
    "start_time": "2025-02-05T06:43:57.433Z"
   },
   {
    "duration": 54,
    "start_time": "2025-02-05T06:43:57.491Z"
   },
   {
    "duration": 30,
    "start_time": "2025-02-05T06:43:57.547Z"
   },
   {
    "duration": 20,
    "start_time": "2025-02-05T06:43:57.579Z"
   },
   {
    "duration": 17,
    "start_time": "2025-02-05T06:43:57.601Z"
   },
   {
    "duration": 16,
    "start_time": "2025-02-05T06:43:57.619Z"
   },
   {
    "duration": 7656,
    "start_time": "2025-02-05T06:50:38.727Z"
   },
   {
    "duration": 60,
    "start_time": "2025-02-05T06:50:46.385Z"
   },
   {
    "duration": 44,
    "start_time": "2025-02-05T06:50:46.447Z"
   },
   {
    "duration": 29,
    "start_time": "2025-02-05T06:50:46.494Z"
   },
   {
    "duration": 14,
    "start_time": "2025-02-05T06:50:46.525Z"
   },
   {
    "duration": 16,
    "start_time": "2025-02-05T06:50:46.541Z"
   },
   {
    "duration": 16,
    "start_time": "2025-02-05T06:50:46.558Z"
   },
   {
    "duration": 53,
    "start_time": "2025-02-06T04:34:01.707Z"
   },
   {
    "duration": 7023,
    "start_time": "2025-02-06T04:34:09.856Z"
   },
   {
    "duration": 71,
    "start_time": "2025-02-06T04:34:16.881Z"
   },
   {
    "duration": 39,
    "start_time": "2025-02-06T04:34:16.953Z"
   },
   {
    "duration": 32,
    "start_time": "2025-02-06T04:34:16.995Z"
   },
   {
    "duration": 16,
    "start_time": "2025-02-06T04:34:17.029Z"
   },
   {
    "duration": 26,
    "start_time": "2025-02-06T04:34:17.047Z"
   },
   {
    "duration": 15,
    "start_time": "2025-02-06T04:34:17.075Z"
   },
   {
    "duration": 8,
    "start_time": "2025-02-06T04:36:42.975Z"
   },
   {
    "duration": 13,
    "start_time": "2025-02-06T04:41:23.870Z"
   },
   {
    "duration": 17,
    "start_time": "2025-02-06T04:46:23.939Z"
   },
   {
    "duration": 11,
    "start_time": "2025-02-06T04:48:33.902Z"
   },
   {
    "duration": 31,
    "start_time": "2025-02-06T04:51:20.822Z"
   },
   {
    "duration": 6067,
    "start_time": "2025-02-06T04:52:19.158Z"
   },
   {
    "duration": 41,
    "start_time": "2025-02-06T04:52:25.227Z"
   },
   {
    "duration": 35,
    "start_time": "2025-02-06T04:52:25.270Z"
   },
   {
    "duration": 34,
    "start_time": "2025-02-06T04:52:25.308Z"
   },
   {
    "duration": 10,
    "start_time": "2025-02-06T04:52:25.344Z"
   },
   {
    "duration": 11,
    "start_time": "2025-02-06T04:52:25.356Z"
   },
   {
    "duration": 41,
    "start_time": "2025-02-06T04:52:25.368Z"
   },
   {
    "duration": 17,
    "start_time": "2025-02-06T04:52:25.411Z"
   },
   {
    "duration": 29,
    "start_time": "2025-02-06T04:53:05.434Z"
   },
   {
    "duration": 35,
    "start_time": "2025-02-06T04:53:34.923Z"
   },
   {
    "duration": 40,
    "start_time": "2025-02-06T04:53:55.244Z"
   },
   {
    "duration": 36,
    "start_time": "2025-02-06T04:54:06.756Z"
   },
   {
    "duration": 30,
    "start_time": "2025-02-06T04:54:35.441Z"
   },
   {
    "duration": 29,
    "start_time": "2025-02-06T04:54:51.018Z"
   },
   {
    "duration": 27,
    "start_time": "2025-02-06T04:55:42.767Z"
   },
   {
    "duration": 6627,
    "start_time": "2025-02-06T04:56:02.539Z"
   },
   {
    "duration": 59,
    "start_time": "2025-02-06T04:56:09.168Z"
   },
   {
    "duration": 47,
    "start_time": "2025-02-06T04:56:09.229Z"
   },
   {
    "duration": 29,
    "start_time": "2025-02-06T04:56:09.279Z"
   },
   {
    "duration": 10,
    "start_time": "2025-02-06T04:56:09.310Z"
   },
   {
    "duration": 11,
    "start_time": "2025-02-06T04:56:09.322Z"
   },
   {
    "duration": 14,
    "start_time": "2025-02-06T04:56:09.334Z"
   },
   {
    "duration": 26,
    "start_time": "2025-02-06T04:56:09.349Z"
   },
   {
    "duration": 29,
    "start_time": "2025-02-06T04:56:29.859Z"
   },
   {
    "duration": 6343,
    "start_time": "2025-02-06T04:58:07.179Z"
   },
   {
    "duration": 40,
    "start_time": "2025-02-06T04:58:13.524Z"
   },
   {
    "duration": 23,
    "start_time": "2025-02-06T04:58:13.566Z"
   },
   {
    "duration": 30,
    "start_time": "2025-02-06T04:58:13.591Z"
   },
   {
    "duration": 10,
    "start_time": "2025-02-06T04:58:13.623Z"
   },
   {
    "duration": 11,
    "start_time": "2025-02-06T04:58:13.634Z"
   },
   {
    "duration": 15,
    "start_time": "2025-02-06T04:58:13.646Z"
   },
   {
    "duration": 14,
    "start_time": "2025-02-06T04:58:13.663Z"
   }
  ],
  "kernelspec": {
   "display_name": "Python 3 (ipykernel)",
   "language": "python",
   "name": "python3"
  },
  "language_info": {
   "codemirror_mode": {
    "name": "ipython",
    "version": 3
   },
   "file_extension": ".py",
   "mimetype": "text/x-python",
   "name": "python",
   "nbconvert_exporter": "python",
   "pygments_lexer": "ipython3",
   "version": "3.9.5"
  },
  "toc": {
   "base_numbering": 1,
   "nav_menu": {},
   "number_sections": true,
   "sideBar": true,
   "skip_h1_title": true,
   "title_cell": "Table of Contents",
   "title_sidebar": "Contents",
   "toc_cell": false,
   "toc_position": {
    "height": "calc(100% - 180px)",
    "left": "10px",
    "top": "150px",
    "width": "321.25px"
   },
   "toc_section_display": true,
   "toc_window_display": false
  }
 },
 "nbformat": 4,
 "nbformat_minor": 2
}
